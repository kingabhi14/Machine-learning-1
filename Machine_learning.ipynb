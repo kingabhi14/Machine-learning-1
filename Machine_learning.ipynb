{
  "nbformat": 4,
  "nbformat_minor": 0,
  "metadata": {
    "colab": {
      "provenance": []
    },
    "kernelspec": {
      "name": "python3",
      "display_name": "Python 3"
    },
    "language_info": {
      "name": "python"
    }
  },
  "cells": [
    {
      "cell_type": "markdown",
      "source": [
        "#THEORETICAL QUESTIONS:"
      ],
      "metadata": {
        "id": "REmFXuMuaiND"
      }
    },
    {
      "cell_type": "markdown",
      "source": [
        "Q1.What is Logistic Regression, and how does it differ from Linear Regression?\n",
        "\n",
        ".Logistic regression and linear regression are both used to model relationships between variables, but they differ in the type of dependent variable they handle.\n",
        "\n",
        " Linear regression predicts a continuous outcome, while logistic regression predicts a categorical outcome, specifically the probability of belonging to a particular class"
      ],
      "metadata": {
        "id": "5AkbyhT8bBsb"
      }
    },
    {
      "cell_type": "markdown",
      "source": [
        "Q2. What is the mathematical equation of Logistic Regression?\n",
        "\n",
        ".The core equation of logistic regression models the probability of an event occurring, typically represented as '1', given a set of input features (X) and a set of coefficients (β). It uses the sigmoid function (also known as the logistic function) to transform the linear combination of input features into a probability between 0 and 1.\n",
        "\n",
        "The equation is generally expressed as:\n",
        "\n",
        "P(Y=1 | X) = 1 / (1 + e^(-(β₀ + β₁X₁ + β₂X₂ + ... + βₚXₚ)))"
      ],
      "metadata": {
        "id": "5MriEId2bt8L"
      }
    },
    {
      "cell_type": "markdown",
      "source": [
        "Q3. Why do we use the Sigmoid function in Logistic Regression?\n",
        "\n",
        ".The sigmoid function is used in Logistic Regression to transform the output of the linear model (which can be any real number) into a probability between 0 and 1. This is crucial for binary classification tasks because the output of a logistic regression model is interpreted as the probability of an event occurring, not just a simple classification.\n"
      ],
      "metadata": {
        "id": "HXYj91XCcUNx"
      }
    },
    {
      "cell_type": "markdown",
      "source": [
        "Q4. What is the cost function of Logistic Regression?\n",
        "\n",
        ".In machine learning, the function to be optimized is called the loss function or cost function. We use the loss function to determine how well our model fits the data. A suitable loss function in logistic regression is called the Log-Loss, or binary cross-entropy.\n"
      ],
      "metadata": {
        "id": "V_uNFFsacrfs"
      }
    },
    {
      "cell_type": "markdown",
      "source": [
        "Q5. What is Regularization in Logistic Regression? Why is it needed?\n",
        "\n",
        ".Regularization in logistic regression is a technique used to prevent overfitting by adding a penalty term to the cost function. This penalty term discourages the model from assigning overly large coefficients to features, thereby simplifying the model and improving its ability to generalize to unseen data.\n",
        "\n",
        " Regularization Needed:\n",
        "\n",
        "Overfitting:\n",
        "\n",
        "Logistic regression, like other machine learning models, can overfit the training data, meaning it learns the training examples too well, including the noise and outliers. This leads to poor performance on new, unseen data.\n",
        "\n",
        "High Dimensionality:\n",
        "\n",
        "When a model has many features (high dimensionality), it's prone to overfitting because it can learn complex relationships that don't generalize well.\n",
        "\n",
        "Simplifying the Model:\n",
        "\n",
        "By penalizing large coefficients, regularization forces the model to rely less on individual features and creates a simpler model that is more likely to generalize well.\n",
        "\n",
        "Improved Generalization:\n",
        "\n",
        "The primary goal of regularization is to improve the model's ability to generalize to unseen data, meaning it makes accurate predictions on new data it hasn't seen during training.\n",
        "\n",
        "Balancing Bias and Variance:\n",
        "\n",
        "Regularization helps find a balance between bias (underfitting) and variance (overfitting) by adding a penalty term that reduces the complexity of the model."
      ],
      "metadata": {
        "id": "nhjgL08edEzl"
      }
    },
    {
      "cell_type": "markdown",
      "source": [
        "Q6.Explain the difference between Lasso, Ridge, and Elastic Net regression?\n",
        "\n",
        ".Lasso vs Ridge vs Elastic Net\n",
        "So far, we’ve discussed the basic insights of Lasso, Ridge and Elastic Net. Now, let’s look at a tabular comparison between these three.\n",
        "\n",
        "Features\n",
        "\n",
        "Lasso Regression\n",
        "\n",
        "Ridge Regression\n",
        "\n",
        "Elastic Net Regression\n",
        "\n",
        "Penalty Type\n",
        "\n",
        "L1 Penalty: Lasso uses the absolute values of coefficients.\n",
        "\n",
        "L2 Penalty: Ridge uses the square of the coefficients.\n",
        "\n",
        "L1 + L2 Penalty: Elastic Net uses both absolute and square penalties together.\n",
        "\n",
        "Effect on Coefficients\n",
        "\n",
        "Lasso completely removes unnecessary features by setting their coefficients to zero.\n",
        "\n",
        "Ridge makes all coefficients smaller but doesn’t set them to zero.\n",
        "\n",
        "Elastic Net removes some features and reduces others, balancing both.\n",
        "\n",
        "It is best for\n",
        "\n",
        "It is best when you have many features and want to remove irrelevant ones\n",
        "\n",
        "It is good when all features are useful, but you want to reduce their impact.\n",
        "\n",
        "It is best for when you have many correlated features\n",
        "\n",
        "Hyperparameters involved\n",
        "\n",
        "Alpha: Controls how much regularization is applied. A higher alpha means more shrinkage.\n",
        "\n",
        "Alpha: Similar to Lasso, controls the strength of regularization.\n",
        "\n",
        "Alpha + L1_ratio: Two parameters. Alpha controls regularization strength and L1_ratio adjusts the balance between Lasso and Ridge.\n",
        "\n",
        "Bias and Variance\n",
        "\n",
        "High bias, low variance: Lasso makes the model simpler, leading to higher bias but less overfitting.\n",
        "\n",
        "Low bias, high variance: Ridge keeps all features, leading to less bias but possibly more overfitting.\n",
        "\n",
        "Balance of bias and variance: Elastic Net tries to find the right balance between simplicity and complexity.\n",
        "\n",
        "Strengths\n",
        "\n",
        "Lasso is great for automatically choosing important features.\n",
        "\n",
        "Ridge works well when features are related but shouldn’t be completely removed.\n",
        "\n",
        "Elastic Net combines Lasso’s feature selection and Ridge’s handling of correlations.\n",
        "\n",
        "Weaknesses\n",
        "\n",
        "Lasso can sometimes remove useful features if not tuned properly.\n",
        "\n",
        "Ridge keeps all features, which may not help in high-dimensional data with irrelevant features.\n",
        "\n",
        "Elastic Net is a bit harder to tune due to having two parameters.\n",
        "\n",
        "Example\n",
        "\n",
        "Imagine you have 100 features to predict house prices. Lasso will set the coefficients of irrelevant features (like house color) to zero.\n",
        "\n",
        "If you have 100 features, Ridge will reduce the impact of every feature but won’t completely remove any.\n",
        "\n",
        "If you have features like “size” and “rooms” that are similar, Elastic Net will remove one and shrink the other."
      ],
      "metadata": {
        "id": "14XVLJkQd-vy"
      }
    },
    {
      "cell_type": "markdown",
      "source": [
        "Q7.When should we use Elastic Net instead of Lasso or Ridge?\n",
        "\n",
        ".Elastic Net is preferred over Lasso or Ridge when you have a dataset with many correlated features and need to balance both feature selection and preventing overfitting."
      ],
      "metadata": {
        "id": "CUW19w6ie3Bc"
      }
    },
    {
      "cell_type": "markdown",
      "source": [
        "Q8.What is the impact of the regularization parameter (λ) in Logistic Regression?\n",
        "\n",
        ".In Logistic Regression, the regularization parameter (λ) controls the strength of the penalty applied to model complexity, balancing between model fit and complexity."
      ],
      "metadata": {
        "id": "v6lFveylfJ6U"
      }
    },
    {
      "cell_type": "markdown",
      "source": [
        "Q9. What are the key assumptions of Logistic Regression?\n",
        "\n",
        ".The key assumptions of Logistic Regression include a linear relationship between the independent variables and the log-odds of the dependent variable, independent observations, no multicollinearity among independent variables, a large enough sample size, and the absence of outliers.\n"
      ],
      "metadata": {
        "id": "Jc7O9-lcfgEs"
      }
    },
    {
      "cell_type": "markdown",
      "source": [
        "Q10. What are some alternatives to Logistic Regression for classification tasks?\n",
        "\n",
        ".Several algorithms can be used as alternatives to Logistic Regression for classification tasks, including Support Vector Machines (SVMs), Decision Trees, Random Forests, Neural Networks, and Bayesian methods. Each offers different strengths and weaknesses, making the best choice depend on the specific problem and data."
      ],
      "metadata": {
        "id": "JbPt4dGkf1j8"
      }
    },
    {
      "cell_type": "markdown",
      "source": [
        "Q11.What are Classification Evaluation Metrics?\n",
        "\n",
        ".In classification, evaluation metrics quantify the performance of a model by measuring its ability to correctly predict class labels. Key metrics include accuracy, precision, recall, F1-score, and AUC-ROC, each providing different insights into the model's strengths and weaknesses."
      ],
      "metadata": {
        "id": "QD-K4ToKgH08"
      }
    },
    {
      "cell_type": "markdown",
      "source": [
        "Q12. How does class imbalance affect Logistic Regression.\n",
        "\n",
        ".Class imbalance in logistic regression can lead to a model that is biased towards the majority class, resulting in poor performance on the minority class. This bias arises because the model is trained to minimize the overall error, which can be achieved by predominantly classifying instances of the majority class correctly, even if it misclassifies instances of the minority class."
      ],
      "metadata": {
        "id": "yzheF9ZpgfI7"
      }
    },
    {
      "cell_type": "markdown",
      "source": [
        "Q13.What is Hyperparameter Tuning in Logistic Regression?\n",
        "\n",
        ".Hyperparameter tuning in Logistic Regression involves finding the optimal values for parameters that control the learning process, such as the learning rate, regularization strength, and batch size, to improve model performance. These values are set before training begins, and they affect how the model learns from the data."
      ],
      "metadata": {
        "id": "d_CD6k0lguNs"
      }
    },
    {
      "cell_type": "markdown",
      "source": [
        "Q14. What are different solvers in Logistic Regression? Which one should be used?\n",
        "\n",
        ".In Logistic Regression, different solvers are essentially optimization algorithms used to find the best model parameters (coefficients) given your data. The choice of solver depends on the size and characteristics of your dataset, as well as the type of regularization you want to use."
      ],
      "metadata": {
        "id": "9o9x9V6Dg8sb"
      }
    },
    {
      "cell_type": "markdown",
      "source": [
        "Q15. How is Logistic Regression extended for multiclass classification?\n",
        "\n",
        ".Logistic Regression can be extended for multiclass classification using two primary methods: One-vs-Rest (OvR) or One-vs-All, and Multinomial Logistic Regression (Softmax Regression). OvR involves training a separate binary classifier for each class, treating it against all others. Multinomial Logistic Regression directly extends the binary logistic regression by using the softmax activation function to predict probabilities for each class."
      ],
      "metadata": {
        "id": "2EvABFzChVwy"
      }
    },
    {
      "cell_type": "markdown",
      "source": [
        "Q16.What are the advantages and disadvantages of Logistic Regression?\n",
        "\n",
        ".Advantages and Disadvantages of Logistic Regression.\n",
        "\n",
        "Regression analysis offers several advantages, including its ease of implementation and interpretation, ability to quantify relationships between variables, and versatility in handling various data types. However, it also has disadvantages like its sensitivity to outliers, assumption of linearity, and potential for multicollinearity, which can affect the accuracy and reliability of the model.\n"
      ],
      "metadata": {
        "id": "WudrvJVrhlt8"
      }
    },
    {
      "cell_type": "markdown",
      "source": [
        "Q17.What are some use cases of Logistic Regression?\n",
        "\n",
        ".Logistic regression is primarily used for binary classification, predicting the probability of one of two possible outcomes. It's also valuable for preprocessing data, like sorting bank transactions into a smaller range. Its applications span diverse fields like finance, healthcare, and marketing."
      ],
      "metadata": {
        "id": "QnNgppcwiezs"
      }
    },
    {
      "cell_type": "markdown",
      "source": [
        "Q18. What is the difference between Softmax Regression and Logistic Regression?\n",
        "\n",
        ".Softmax Regression is a generalization of Logistic Regression, designed for multi-class classification, while Logistic Regression is primarily used for binary classification. Softmax Regression uses the Softmax function to output a probability distribution over all possible classes, ensuring that these probabilities sum to one. Logistic Regression, on the other hand, uses the Sigmoid function to predict the probability of belonging to one of the two classes."
      ],
      "metadata": {
        "id": "KYmK1qNsitM0"
      }
    },
    {
      "cell_type": "markdown",
      "source": [
        "Q20. How do we interpret coefficients in Logistic Regression?\n",
        "\n",
        ".In logistic regression, coefficients represent the change in the log-odds of the outcome for a one-unit change in the predictor variable, holding all other variables constant. The exponentiated coefficient (odds ratio) then represents the multiplicative effect on the odds of the event occurring."
      ],
      "metadata": {
        "id": "LqB731YxjGEb"
      }
    },
    {
      "cell_type": "markdown",
      "source": [
        "#PRACTICAL QUESTIONS:"
      ],
      "metadata": {
        "id": "WyaOlbYije_L"
      }
    },
    {
      "cell_type": "markdown",
      "source": [
        "Q1.Write a Python program that loads a dataset, splits it into training and testing sets, applies Logistic\n",
        "Regression, and prints the model accuracy.\n",
        "\n"
      ],
      "metadata": {
        "id": "TE9jGOcTjxuq"
      }
    },
    {
      "cell_type": "code",
      "source": [
        "from sklearn.datasets import load_iris\n",
        "from sklearn.model_selection import train_test_split\n",
        "from sklearn.linear_model import LogisticRegression\n",
        "from sklearn.metrics import accuracy_score\n",
        "\n",
        "\n",
        "iris = load_iris()\n",
        "X = iris.data\n",
        "y = iris.target\n",
        "\n",
        "\n",
        "lit into training and testing sets (80% train, 20% test)\n",
        "X_train, X_test, y_train, y_test = train_test_split(X, y, test_size=0.2, random_state=42)\n",
        "\n",
        "model = LogisticRegression(max_iter=200)\n",
        "model.fit(X_train, y_train)\n",
        "\n",
        "\n",
        "y_pred = model.predict(X_test)\n",
        "\n",
        "accuracy = accuracy_score(y_test, y_pred)\n",
        "print(f\"Model Accuracy: {accuracy:.2f}\")\n"
      ],
      "metadata": {
        "colab": {
          "base_uri": "https://localhost:8080/"
        },
        "id": "7FyuRVURkAWs",
        "outputId": "3f62923a-40e4-4fd5-9c15-f72b45ad1366"
      },
      "execution_count": 1,
      "outputs": [
        {
          "output_type": "stream",
          "name": "stdout",
          "text": [
            "Model Accuracy: 1.00\n"
          ]
        }
      ]
    },
    {
      "cell_type": "markdown",
      "source": [
        "Q2.Write a Python program to apply L1 regularization (Lasso) on a dataset using LogisticRegression(penalty='l1')\n",
        "and print the model accuracy.\n"
      ],
      "metadata": {
        "id": "0JZHTxJ2kcBU"
      }
    },
    {
      "cell_type": "code",
      "source": [
        "from sklearn.datasets import load_iris\n",
        "from sklearn.model_selection import train_test_split\n",
        "from sklearn.linear_model import LogisticRegression\n",
        "from sklearn.metrics import accuracy_score\n",
        "\n",
        "\n",
        "iris = load_iris()\n",
        "X = iris.data\n",
        "y = iris.target\n",
        "\n",
        "\n",
        "binary_filter = y != 2\n",
        "X_binary = X[binary_filter]\n",
        "y_binary = y[binary_filter]\n",
        "\n",
        "\n",
        "X_train, X_test, y_train, y_test = train_test_split(X_binary, y_binary, test_size=0.2, random_state=42)\n",
        "\n",
        "\n",
        "model = LogisticRegression(penalty='l1', solver='liblinear', max_iter=200)\n",
        "model.fit(X_train, y_train)\n",
        "\n",
        "y_pred = model.predict(X_test)\n",
        "accuracy = accuracy_score(y_test, y_pred)\n",
        "print(f\"Model Accuracy with L1 Regularization: {accuracy:.2f}\")\n"
      ],
      "metadata": {
        "colab": {
          "base_uri": "https://localhost:8080/"
        },
        "id": "xoIFNOFxkkrU",
        "outputId": "b80fbbff-c1a8-4293-9ec3-e088702f22b1"
      },
      "execution_count": 2,
      "outputs": [
        {
          "output_type": "stream",
          "name": "stdout",
          "text": [
            "Model Accuracy with L1 Regularization: 1.00\n"
          ]
        }
      ]
    },
    {
      "cell_type": "markdown",
      "source": [
        "Q3. Write a Python program to train Logistic Regression with L2 regularization (Ridge) using\n",
        "LogisticRegression(penalty='l2'). Print model accuracy and coefficients."
      ],
      "metadata": {
        "id": "cy7E-crYk5Ul"
      }
    },
    {
      "cell_type": "code",
      "source": [
        "from sklearn.datasets import load_iris\n",
        "from sklearn.model_selection import train_test_split\n",
        "from sklearn.linear_model import LogisticRegression\n",
        "from sklearn.metrics import accuracy_score\n",
        "\n",
        "\n",
        "iris = load_iris()\n",
        "X = iris.data\n",
        "y = iris.target\n",
        "\n",
        "X_train, X_test, y_train, y_test = train_test_split(X, y, test_size=0.2, random_state=42)\n",
        "\n",
        "\n",
        "model = LogisticRegression(penalty='l2', solver='lbfgs', multi_class='auto', max_iter=200)\n",
        "model.fit(X_train, y_train)\n",
        "\n",
        "\n",
        "y_pred = model.predict(X_test)\n",
        "accuracy = accuracy_score(y_test, y_pred)\n",
        "\n",
        "\n",
        "print(f\"Model Accuracy with L2 Regularization: {accuracy:.2f}\")\n",
        "print(\"Model Coefficients (one row per class):\")\n",
        "print(model.coef_)\n"
      ],
      "metadata": {
        "id": "n2YXybcclDrE"
      },
      "execution_count": null,
      "outputs": []
    },
    {
      "cell_type": "markdown",
      "source": [
        "Q4. Write a Python program to train Logistic Regression with Elastic Net Regularization (penalty='elasticnet')"
      ],
      "metadata": {
        "id": "qUNoGajWlaNF"
      }
    },
    {
      "cell_type": "code",
      "source": [
        "from sklearn.datasets import load_iris\n",
        "from sklearn.model_selection import train_test_split\n",
        "from sklearn.linear_model import LogisticRegression\n",
        "from sklearn.metrics import accuracy_score\n",
        "\n",
        "iris = load_iris()\n",
        "X = iris.data\n",
        "y = iris.target\n",
        "\n",
        "binary_filter = y != 2\n",
        "X_binary = X[binary_filter]\n",
        "y_binary = y[binary_filter]\n",
        "\n",
        "X_train, X_test, y_train, y_test = train_test_split(X_binary, y_binary, test_size=0.2, random_state=42)\n",
        "\n",
        "model = LogisticRegression(\n",
        "    penalty='elasticnet',\n",
        "    solver='saga',\n",
        "    l1_ratio=0.5,\n",
        "    max_iter=500\n",
        ")\n",
        "model.fit(X_train, y_train)\n",
        "\n",
        "\n",
        "y_pred = model.predict(X_test)\n",
        "accuracy = accuracy_score(y_test, y_pred)\n",
        "\n",
        "# Output results\n",
        "print(f\"Model Accuracy with Elastic Net Regularization: {accuracy:.2f}\")\n",
        "print(\"Model Coefficients:\")\n",
        "print(model.coef_)\n"
      ],
      "metadata": {
        "colab": {
          "base_uri": "https://localhost:8080/"
        },
        "id": "U_kuKUTdlnEi",
        "outputId": "2fe8964f-d0d5-498d-941f-f13b3ed0a310"
      },
      "execution_count": 4,
      "outputs": [
        {
          "output_type": "stream",
          "name": "stdout",
          "text": [
            "Model Accuracy with Elastic Net Regularization: 1.00\n",
            "Model Coefficients:\n",
            "[[ 0.         -1.31684822  2.40411099  0.56660156]]\n"
          ]
        },
        {
          "output_type": "stream",
          "name": "stderr",
          "text": [
            "/usr/local/lib/python3.11/dist-packages/sklearn/linear_model/_sag.py:348: ConvergenceWarning: The max_iter was reached which means the coef_ did not converge\n",
            "  warnings.warn(\n"
          ]
        }
      ]
    },
    {
      "cell_type": "markdown",
      "source": [
        "Q5. Write a Python program to train a Logistic Regression model for multiclass classification using\n",
        "multi_class='ovr"
      ],
      "metadata": {
        "id": "VwJGfrybl7C0"
      }
    },
    {
      "cell_type": "code",
      "source": [
        "from sklearn.datasets import load_iris\n",
        "from sklearn.model_selection import train_test_split\n",
        "from sklearn.linear_model import LogisticRegression\n",
        "from sklearn.metrics import accuracy_score\n",
        "\n",
        "\n",
        "iris = load_iris()\n",
        "X = iris.data\n",
        "y = iris.target\n",
        "\n",
        "X_train, X_test, y_train, y_test = train_test_split(X, y, test_size=0.2, random_state=42)\n",
        "\n",
        "model = LogisticRegression(multi_class='ovr', solver='lbfgs', max_iter=200)\n",
        "model.fit(X_train, y_train)\n",
        "\n",
        "y_pred = model.predict(X_test)\n",
        "accuracy = accuracy_score(y_test, y_pred)\n",
        "\n",
        "\n",
        "print(\"Logistic Regression with One-vs-Rest (OvR) strategy\")\n",
        "print(f\"Model Accuracy: {accuracy:.2f}\")\n",
        "print(\"Model Coefficients (one row per class):\")\n",
        "print(model.coef_)\n"
      ],
      "metadata": {
        "id": "XJH9Lz3OmDn8"
      },
      "execution_count": null,
      "outputs": []
    },
    {
      "cell_type": "markdown",
      "source": [
        "Q6.Write a Python program to apply GridSearchCV to tune the hyperparameters (C and penalty) of Logistic\n",
        "Regression. Print the best parameters and accuracy\n"
      ],
      "metadata": {
        "id": "xOgkaZVomTAy"
      }
    },
    {
      "cell_type": "code",
      "source": [
        "from sklearn.datasets import load_iris\n",
        "from sklearn.linear_model import LogisticRegression\n",
        "from sklearn.model_selection import GridSearchCV, train_test_split\n",
        "from sklearn.metrics import accuracy_score\n",
        "\n",
        "\n",
        "iris = load_iris()\n",
        "X = iris.data\n",
        "y = iris.target\n",
        "\n",
        "X_train, X_test, y_train, y_test = train_test_split(X, y, test_size=0.2, random_state=42)\n",
        "\n",
        "\n",
        "param_grid = {\n",
        "    'C': [0.01, 0.1, 1, 10, 100],\n",
        "    'penalty': ['l1', 'l2'],\n",
        "    'solver': ['liblinear']\n",
        "}\n",
        "\n",
        "grid_search = GridSearchCV(\n",
        "    LogisticRegression(max_iter=200, multi_class='ovr'),\n",
        "    param_grid,\n",
        "    cv=5,\n",
        "    scoring='accuracy',\n",
        "    n_jobs=-1\n",
        ")\n",
        "\n",
        "\n",
        "grid_search.fit(X_train, y_train)\n",
        "\n",
        "\n",
        "best_model = grid_search.best_estimator_\n",
        "y_pred = best_model.predict(X_test)\n",
        "accuracy = accuracy_score(y_test, y_pred)\n",
        "\n",
        "\n",
        "print(\"Best Parameters from GridSearchCV:\")\n",
        "print(grid_search.best_params_)\n",
        "print(f\"Test Set Accuracy with Best Model: {accuracy:.2f}\")\n"
      ],
      "metadata": {
        "id": "kqAaVPdqmY3z"
      },
      "execution_count": null,
      "outputs": []
    },
    {
      "cell_type": "markdown",
      "source": [
        "Q7. Write a Python program to evaluate Logistic Regression using Stratified K-Fold Cross-Validation. Print the\n",
        "average accuracy"
      ],
      "metadata": {
        "id": "oZz1jNKJmwYF"
      }
    },
    {
      "cell_type": "code",
      "source": [
        "from sklearn.datasets import load_iris\n",
        "from sklearn.linear_model import LogisticRegression\n",
        "from sklearn.model_selection import StratifiedKFold, cross_val_score\n",
        "import numpy as np\n",
        "\n",
        "\n",
        "iris = load_iris()\n",
        "X = iris.data\n",
        "y = iris.target\n",
        "\n",
        "\n",
        "skf = StratifiedKFold(n_splits=5, shuffle=True, random_state=42)\n",
        "\n",
        "\n",
        "model = LogisticRegression(max_iter=200)\n",
        "\n",
        "accuracies = cross_val_score(model, X, y, cv=skf, scoring='accuracy')\n",
        "\n",
        "print(\"Cross-Validation Accuracies:\", accuracies)\n",
        "print(f\"Average Accuracy: {np.mean(accuracies):.2f}\")\n"
      ],
      "metadata": {
        "colab": {
          "base_uri": "https://localhost:8080/"
        },
        "id": "1SRZShQJm4tS",
        "outputId": "c62680f8-f69f-4555-cf9a-e3decc5a6584"
      },
      "execution_count": 7,
      "outputs": [
        {
          "output_type": "stream",
          "name": "stdout",
          "text": [
            "Cross-Validation Accuracies: [1.         0.96666667 0.93333333 1.         0.93333333]\n",
            "Average Accuracy: 0.97\n"
          ]
        }
      ]
    },
    {
      "cell_type": "markdown",
      "source": [
        "Q8.Write a Python program to load a dataset from a CSV file, apply Logistic Regression, and evaluate its\n",
        "accuracy."
      ],
      "metadata": {
        "id": "RyymDsOenHw6"
      }
    },
    {
      "cell_type": "code",
      "source": [
        "import pandas as pd\n",
        "from sklearn.model_selection import train_test_split\n",
        "from sklearn.linear_model import LogisticRegression\n",
        "from sklearn.metrics import accuracy_score\n",
        "\n",
        "\n",
        "df = pd.read_csv('your_dataset.csv')\n",
        "\n",
        "X = df.drop('target_column', axis=1)\n",
        "y = df['target_column']\n",
        "\n",
        "X_train, X_test, y_train, y_test = train_test_split(X, y, test_size=0.2, random_state=42)\n",
        "\n",
        "model = LogisticRegression(max_iter=200)\n",
        "model.fit(X_train, y_train)\n",
        "\n",
        "\n",
        "y_pred = model.predict(X_test)\n",
        "accuracy = accuracy_score(y_test, y_pred)\n",
        "\n",
        "\n",
        "print(f\"Model Accuracy: {accuracy:.2f}\")\n"
      ],
      "metadata": {
        "id": "j1nbgQPZnMyt"
      },
      "execution_count": null,
      "outputs": []
    },
    {
      "cell_type": "markdown",
      "source": [
        "Q9.Write a Python program to apply RandomizedSearchCV for tuning hyperparameters (C, penalty, solver) in\n",
        "Logistic Regression. Print the best parameters and accuracy"
      ],
      "metadata": {
        "id": "pMtBUqsDnhyM"
      }
    },
    {
      "cell_type": "code",
      "source": [
        "import numpy as np\n",
        "from sklearn.datasets import load_iris\n",
        "from sklearn.linear_model import LogisticRegression\n",
        "from sklearn.model_selection import train_test_split, RandomizedSearchCV\n",
        "from sklearn.metrics import accuracy_score\n",
        "from scipy.stats import loguniform\n",
        "\n",
        "\n",
        "iris = load_iris()\n",
        "X = iris.data\n",
        "y = iris.target\n",
        "\n",
        "\n",
        "X_train, X_test, y_train, y_test = train_test_split(X, y, test_size=0.2, random_state=42)\n",
        "\n",
        "param_dist = {\n",
        "    'C': loguniform(0.001, 100),\n",
        "    'penalty': ['l1', 'l2'],\n",
        "    'solver': ['liblinear', 'saga']\n",
        "}\n",
        "\n",
        "model = LogisticRegression(max_iter=500, multi_class='ovr')\n",
        "random_search = RandomizedSearchCV(model, param_distributions=param_dist, n_iter=20, cv=5, scoring='accuracy', random_state=42, n_jobs=-1)\n",
        "\n",
        "\n",
        "random_search.fit(X_train, y_train)\n",
        "\n",
        "best_model = random_search.best_estimator_\n",
        "y_pred = best_model.predict(X_test)\n",
        "accuracy = accuracy_score(y_test, y_pred)\n",
        "\n",
        "\n",
        "print(\"Best Parameters from RandomizedSearchCV:\")\n",
        "print(random_search.best_params_)\n",
        "print(f\"Test Set Accuracy with Best Model: {accuracy:.2f}\")\n"
      ],
      "metadata": {
        "id": "7yd-fQcGnpc0"
      },
      "execution_count": null,
      "outputs": []
    },
    {
      "cell_type": "markdown",
      "source": [
        "Q10.Write a Python program to implement One-vs-One (OvO) Multiclass Logistic Regression and print accuracy"
      ],
      "metadata": {
        "id": "5PdgcCvwn84E"
      }
    },
    {
      "cell_type": "code",
      "source": [
        "from sklearn.datasets import load_iris\n",
        "from sklearn.linear_model import LogisticRegression\n",
        "from sklearn.multiclass import OneVsOneClassifier\n",
        "from sklearn.model_selection import train_test_split\n",
        "from sklearn.metrics import accuracy_score\n",
        "\n",
        "iris = load_iris()\n",
        "X = iris.data\n",
        "y = iris.target\n",
        "\n",
        "X_train, X_test, y_train, y_test = train_test_split(X, y, test_size=0.2, random_state=42)\n",
        "\n",
        "base_model = LogisticRegression(max_iter=200)\n",
        "ovo_model = OneVsOneClassifier(base_model)\n",
        "\n",
        "ovo_model.fit(X_train, y_train)\n",
        "\n",
        "y_pred = ovo_model.predict(X_test)\n",
        "accuracy = accuracy_score(y_test, y_pred)\n",
        "\n",
        "\n",
        "print(\"One-vs-One (OvO) Logistic Regression\")\n",
        "print(f\"Test Set Accuracy: {accuracy:.2f}\")\n"
      ],
      "metadata": {
        "colab": {
          "base_uri": "https://localhost:8080/"
        },
        "id": "d3X6eLVMoEOF",
        "outputId": "5028c50d-7cff-4e97-ea43-aa97ff397967"
      },
      "execution_count": 10,
      "outputs": [
        {
          "output_type": "stream",
          "name": "stdout",
          "text": [
            "One-vs-One (OvO) Logistic Regression\n",
            "Test Set Accuracy: 1.00\n"
          ]
        }
      ]
    },
    {
      "cell_type": "markdown",
      "source": [
        "Q11.Write a Python program to train a Logistic Regression model and visualize the confusion matrix for binary\n",
        "classification"
      ],
      "metadata": {
        "id": "el-tEWnWoUBU"
      }
    },
    {
      "cell_type": "code",
      "source": [
        "import numpy as np\n",
        "import seaborn as sns\n",
        "import matplotlib.pyplot as plt\n",
        "from sklearn.datasets import load_iris\n",
        "from sklearn.linear_model import LogisticRegression\n",
        "from sklearn.model_selection import train_test_split\n",
        "from sklearn.metrics import confusion_matrix, accuracy_score\n",
        "\n",
        "iris = load_iris()\n",
        "X = iris.data\n",
        "y = iris.target\n",
        "binary_filter = y != 2\n",
        "X_binary = X[binary_filter]\n",
        "y_binary = y[binary_filter]\n",
        "\n",
        "X_train, X_test, y_train, y_test = train_test_split(X_binary, y_binary, test_size=0.2, random_state=42)\n",
        "\n",
        "model = LogisticRegression(max_iter=200)\n",
        "model.fit(X_train, y_train)\n",
        "\n",
        "y_pred = model.predict(X_test)\n",
        "\n",
        "cm = confusion_matrix(y_test, y_pred)\n",
        "\n",
        "accuracy = accuracy_score(y_test, y_pred)\n",
        "\n",
        "print(f\"Model Accuracy: {accuracy:.2f}\")\n",
        "\n",
        "\n",
        "plt.figure(figsize=(6, 5))\n",
        "sns.heatmap(cm, annot=True, fmt=\"d\", cmap=\"Blues\", xticklabels=['Pred: 0', 'Pred: 1'], yticklabels=['True: 0', 'True: 1'])\n",
        "plt.title('Confusion Matrix')\n",
        "plt.xlabel('Predicted')\n",
        "plt.ylabel('True')\n",
        "plt.show()\n"
      ],
      "metadata": {
        "colab": {
          "base_uri": "https://localhost:8080/",
          "height": 504
        },
        "id": "OGEWdAsDoaQO",
        "outputId": "de58e5a5-e1fe-4f33-8f36-a4b1318a74d6"
      },
      "execution_count": 11,
      "outputs": [
        {
          "output_type": "stream",
          "name": "stdout",
          "text": [
            "Model Accuracy: 1.00\n"
          ]
        },
        {
          "output_type": "display_data",
          "data": {
            "text/plain": [
              "<Figure size 600x500 with 2 Axes>"
            ],
            "image/png": "[encoded data removed]"
          },
          "metadata": {}
        }
      ]
    },
    {
      "cell_type": "markdown",
      "source": [
        "Q12. Write a Python program to train a Logistic Regression model and evaluate its performance using Precision,\n",
        "Recall, and F1-Score"
      ],
      "metadata": {
        "id": "H72K4OG_oywe"
      }
    },
    {
      "cell_type": "code",
      "source": [
        "from sklearn.datasets import load_iris\n",
        "from sklearn.linear_model import LogisticRegression\n",
        "from sklearn.model_selection import train_test_split\n",
        "from sklearn.metrics import precision_score, recall_score, f1_score, accuracy_score\n",
        "\n",
        "\n",
        "iris = load_iris()\n",
        "X = iris.data\n",
        "y = iris.target\n",
        "\n",
        "binary_filter = y != 2\n",
        "X_binary = X[binary_filter]\n",
        "y_binary = y[binary_filter]\n",
        "\n",
        "X_train, X_test, y_train, y_test = train_test_split(X_binary, y_binary, test_size=0.2, random_state=42)\n",
        "\n",
        "model = LogisticRegression(max_iter=200)\n",
        "model.fit(X_train, y_train)\n",
        "\n",
        "\n",
        "y_pred = model.predict(X_test)\n",
        "\n",
        "precision = precision_score(y_test, y_pred)\n",
        "recall = recall_score(y_test, y_pred)\n",
        "f1 = f1_score(y_test, y_pred)\n",
        "\n",
        "\n",
        "accuracy = accuracy_score(y_test, y_pred)\n",
        "\n",
        "\n",
        "print(f\"Model Accuracy: {accuracy:.2f}\")\n",
        "print(f\"Precision: {precision:.2f}\")\n",
        "print(f\"Recall: {recall:.2f}\")\n",
        "print(f\"F1-Score: {f1:.2f}\")\n"
      ],
      "metadata": {
        "colab": {
          "base_uri": "https://localhost:8080/"
        },
        "id": "L94DDBN_pBHV",
        "outputId": "1df6a39b-9d50-4257-b4e7-ad153596b8cc"
      },
      "execution_count": 12,
      "outputs": [
        {
          "output_type": "stream",
          "name": "stdout",
          "text": [
            "Model Accuracy: 1.00\n",
            "Precision: 1.00\n",
            "Recall: 1.00\n",
            "F1-Score: 1.00\n"
          ]
        }
      ]
    },
    {
      "cell_type": "markdown",
      "source": [
        "Q13.Write a Python program to train a Logistic Regression model on imbalanced data and apply class weights to\n",
        "improve model performance."
      ],
      "metadata": {
        "id": "FaA5yhaIpXmN"
      }
    },
    {
      "cell_type": "code",
      "source": [
        "import numpy as np\n",
        "from sklearn.datasets import load_iris\n",
        "from sklearn.linear_model import LogisticRegression\n",
        "from sklearn.model_selection import train_test_split\n",
        "from sklearn.metrics import accuracy_score, precision_score, recall_score, f1_score\n",
        "from sklearn.utils.class_weight import compute_class_weight\n",
        "\n",
        "\n",
        "iris = load_iris()\n",
        "X = iris.data\n",
        "y = iris.target\n",
        "\n",
        "binary_filter = y != 2\n",
        "X_binary = X[binary_filter]\n",
        "y_binary = y[binary_filter]\n",
        "\n",
        "X_binary_imbalanced = np.vstack([X_binary[y_binary == 0], X_binary[y_binary == 1][:20]])\n",
        "y_binary_imbalanced = np.concatenate([y_binary[y_binary == 0], y_binary[y_binary == 1][:20]])\n",
        "\n",
        "X_train, X_test, y_train, y_test = train_test_split(X_binary_imbalanced, y_binary_imbalanced, test_size=0.2, random_state=42)\n",
        "\n",
        "class_weights = compute_class_weight(class_weight='balanced', classes=np.unique(y_train), y=y_train)\n",
        "class_weight_dict = dict(zip(np.unique(y_train), class_weights))\n",
        "\n",
        "\n",
        "model = LogisticRegression(max_iter=200, class_weight=class_weight_dict)\n",
        "model.fit(X_train, y_train)\n",
        "\n",
        "y_pred = model.predict(X_test)\n",
        "\n",
        "accuracy = accuracy_score(y_test, y_pred)\n",
        "precision = precision_score(y_test, y_pred)\n",
        "recall = recall_score(y_test, y_pred)\n",
        "f1 = f1_score(y_test, y_pred)\n",
        "\n",
        "\n",
        "print(f\"Model Accuracy: {accuracy:.2f}\")\n",
        "print(f\"Precision: {precision:.2f}\")\n",
        "print(f\"Recall: {recall:.2f}\")\n",
        "print(f\"F1-Score: {f1:.2f}\")\n"
      ],
      "metadata": {
        "colab": {
          "base_uri": "https://localhost:8080/"
        },
        "id": "TaUf8p7Upg4E",
        "outputId": "3d07d843-87f5-46c5-a9c8-17bba592ba20"
      },
      "execution_count": 13,
      "outputs": [
        {
          "output_type": "stream",
          "name": "stdout",
          "text": [
            "Model Accuracy: 1.00\n",
            "Precision: 1.00\n",
            "Recall: 1.00\n",
            "F1-Score: 1.00\n"
          ]
        }
      ]
    },
    {
      "cell_type": "markdown",
      "source": [
        "Q14. Write a Python program to train Logistic Regression on the Titanic dataset, handle missing values, and\n",
        "evaluate performance."
      ],
      "metadata": {
        "id": "-U7l5EEEp4kt"
      }
    },
    {
      "cell_type": "code",
      "source": [
        "import pandas as pd\n",
        "from sklearn.model_selection import train_test_split\n",
        "from sklearn.linear_model import LogisticRegression\n",
        "from sklearn.metrics import accuracy_score, precision_score, recall_score, f1_score\n",
        "from sklearn.impute import SimpleImputer\n",
        "from sklearn.preprocessing import LabelEncoder\n",
        "from sklearn.compose import ColumnTransformer\n",
        "from sklearn.pipeline import Pipeline\n",
        "\n",
        "#\n",
        "\n",
        "print(df.head())\n",
        "\n",
        "\n",
        "numerical_features = ['Age', 'Fare']\n",
        "categorical_features = ['Sex', 'Embarked']\n",
        "\n",
        "\n",
        "preprocessor = ColumnTransformer(\n",
        "    transformers=[\n",
        "        ('num', SimpleImputer(strategy='median'), numerical_features),\n",
        "        ('cat', Pipeline(steps=[\n",
        "            ('imputer', SimpleImputer(strategy='most_frequent')),\n",
        "            ('encoder', LabelEncoder())\n",
        "        ]), categorical_features)\n",
        "    ])\n",
        "\n",
        "X = df[['Pclass', 'Sex', 'Age', 'SibSp', 'Parch', 'Fare', 'Embarked']]\n",
        "y = df['Survived']\n",
        "\n",
        "X_train, X_test, y_train, y_test = train_test_split(X, y, test_size=0.2, random_state=42)\n",
        "\n",
        "model = Pipeline(steps=[\n",
        "    ('preprocessor', preprocessor),\n",
        "    ('classifier', LogisticRegression(max_iter=200))\n",
        "])\n",
        "\n",
        "\n",
        "model.fit(X_train, y_train)\n",
        "\n",
        "y_pred = model.predict(X_test)\n",
        "\n",
        "\n",
        "precision = precision_score(y_test, y_pred)\n",
        "recall = recall_score(y_test, y_pred)\n",
        "f1 = f1_score(y_test, y_pred)\n",
        "\n",
        "\n",
        "print(f\"Model Accuracy: {accuracy:.2f}\")\n",
        "print(f\"Precision: {precision:.2f}\")\n",
        "print(f\"Recall: {recall:.2f}\")\n",
        "print(f\"F1-Score: {f1:.2f}\")\n"
      ],
      "metadata": {
        "id": "QHS6397jqACE"
      },
      "execution_count": null,
      "outputs": []
    },
    {
      "cell_type": "markdown",
      "source": [
        "Q15. Write a Python program to apply feature scaling (Standardization) before training a Logistic Regression\n",
        "model. Evaluate its accuracy and compare results with and without scaling\n"
      ],
      "metadata": {
        "id": "Bj2BTVzhqiGE"
      }
    },
    {
      "cell_type": "code",
      "source": [
        "import pandas as pd\n",
        "from sklearn.datasets import load_iris\n",
        "from sklearn.model_selection import train_test_split\n",
        "from sklearn.linear_model import LogisticRegression\n",
        "from sklearn.preprocessing import StandardScaler\n",
        "from sklearn.metrics import accuracy_score\n",
        "\n",
        "\n",
        "iris = load_iris()\n",
        "X = iris.data\n",
        "y = iris.target\n",
        "\n",
        "binary_filter = y != 2\n",
        "X_binary = X[binary_filter]\n",
        "y_binary = y[binary_filter]\n",
        "\n",
        "\n",
        "X_train, X_test, y_train, y_test = train_test_split(X_binary, y_binary, test_size=0.2, random_state=42)\n",
        "\n",
        "model = LogisticRegression(max_iter=200)\n",
        "\n",
        "model.fit(X_train, y_train)\n",
        "y_pred_no_scaling = model.predict(X_test)\n",
        "accuracy_no_scaling = accuracy_score(y_test, y_pred_no_scaling)\n",
        "\n",
        "\n",
        "scaler = StandardScaler()\n",
        "X_train_scaled = scaler.fit_transform(X_train)\n",
        "X_test_scaled = scaler.transform(X_test)\n",
        "\n",
        "model.fit(X_train_scaled, y_train)\n",
        "y_pred_with_scaling = model.predict(X_test_scaled)\n",
        "accuracy_with_scaling = accuracy_score(y_test, y_pred_with_scaling)\n",
        "\n",
        "print(f\"Accuracy without Scaling: {accuracy_no_scaling:.2f}\")\n",
        "print(f\"Accuracy with Scaling: {accuracy_with_scaling:.2f}\")\n"
      ],
      "metadata": {
        "colab": {
          "base_uri": "https://localhost:8080/"
        },
        "id": "-XRngby_qqFM",
        "outputId": "df1fcc9d-c6de-48e0-bcf9-36733e270084"
      },
      "execution_count": 15,
      "outputs": [
        {
          "output_type": "stream",
          "name": "stdout",
          "text": [
            "Accuracy without Scaling: 1.00\n",
            "Accuracy with Scaling: 1.00\n"
          ]
        }
      ]
    },
    {
      "cell_type": "markdown",
      "source": [
        "Q17.Write a Python program to train Logistic Regression using a custom learning rate (C=0.5) and evaluate\n",
        "accuracy"
      ],
      "metadata": {
        "id": "sUmQ35OJq-o9"
      }
    },
    {
      "cell_type": "code",
      "source": [
        "from sklearn.datasets import load_iris\n",
        "from sklearn.linear_model import LogisticRegression\n",
        "from sklearn.model_selection import train_test_split\n",
        "from sklearn.metrics import accuracy_score\n",
        "\n",
        "iris = load_iris()\n",
        "X = iris.data\n",
        "y = iris.target\n",
        "\n",
        "binary_filter = y != 2\n",
        "X_binary = X[binary_filter]\n",
        "y_binary = y[binary_filter]\n",
        "\n",
        "X_train, X_test, y_train, y_test = train_test_split(X_binary, y_binary, test_size=0.2, random_state=42)\n",
        "\n",
        "model = LogisticRegression(C=0.5, max_iter=200)\n",
        "\n",
        "model.fit(X_train, y_train)\n",
        "\n",
        "y_pred = model.predict(X_test)\n",
        "\n",
        "accuracy = accuracy_score(y_test, y_pred)\n",
        "\n",
        "print(f\"Model Accuracy with C=0.5: {accuracy:.2f}\")\n"
      ],
      "metadata": {
        "colab": {
          "base_uri": "https://localhost:8080/"
        },
        "id": "amrKeED0rGwa",
        "outputId": "c15148fa-360a-42f5-b794-2118438919c5"
      },
      "execution_count": 16,
      "outputs": [
        {
          "output_type": "stream",
          "name": "stdout",
          "text": [
            "Model Accuracy with C=0.5: 1.00\n"
          ]
        }
      ]
    },
    {
      "cell_type": "markdown",
      "source": [
        "Q18.Write a Python program to train Logistic Regression and identify important features based on model\n",
        "coefficients."
      ],
      "metadata": {
        "id": "W-vqR-dcrWhV"
      }
    },
    {
      "cell_type": "code",
      "source": [
        "import numpy as np\n",
        "import pandas as pd\n",
        "from sklearn.datasets import load_iris\n",
        "from sklearn.linear_model import LogisticRegression\n",
        "from sklearn.model_selection import train_test_split\n",
        "\n",
        "\n",
        "iris = load_iris()\n",
        "X = iris.data\n",
        "y = iris.target\n",
        "\n",
        "binary_filter = y != 2\n",
        "X_binary = X[binary_filter]\n",
        "y_binary = y[binary_filter]\n",
        "\n",
        "feature_names = iris.feature_names\n",
        "\n",
        "X_train, X_test, y_train, y_test = train_test_split(X_binary, y_binary, test_size=0.2, random_state=42)\n",
        "\n",
        "model = LogisticRegression(max_iter=200)\n",
        "model.fit(X_train, y_train)\n",
        "\n",
        "coefficients = model.coef_.flatten()\n",
        "\n",
        "feature_importance = pd.DataFrame({\n",
        "    'Feature': feature_names,\n",
        "    'Coefficient': coefficients,\n",
        "    'Absolute Coefficient': np.abs(coefficients)\n",
        "})\n",
        "\n",
        "feature_importance = feature_importance.sort_values(by='Absolute Coefficient', ascending=False)\n",
        "\n",
        "\n",
        "print(\"Feature Importance based on Logistic Regression Coefficients:\")\n",
        "print(feature_importance)\n"
      ],
      "metadata": {
        "colab": {
          "base_uri": "https://localhost:8080/"
        },
        "id": "kdF0pdWGrcGz",
        "outputId": "417ddab3-e575-47c0-8e8b-1d0f9a552a45"
      },
      "execution_count": 17,
      "outputs": [
        {
          "output_type": "stream",
          "name": "stdout",
          "text": [
            "Feature Importance based on Logistic Regression Coefficients:\n",
            "             Feature  Coefficient  Absolute Coefficient\n",
            "2  petal length (cm)     2.212332              2.212332\n",
            "3   petal width (cm)     0.927443              0.927443\n",
            "1   sepal width (cm)    -0.844458              0.844458\n",
            "0  sepal length (cm)     0.462485              0.462485\n"
          ]
        }
      ]
    },
    {
      "cell_type": "markdown",
      "source": [
        "Q19.Write a Python program to train Logistic Regression and evaluate its performance using Cohen’s Kappa\n",
        "Score."
      ],
      "metadata": {
        "id": "-g_F1CxTrwE1"
      }
    },
    {
      "cell_type": "code",
      "source": [
        "from sklearn.datasets import load_iris\n",
        "from sklearn.linear_model import LogisticRegression\n",
        "from sklearn.model_selection import train_test_split\n",
        "from sklearn.metrics import cohen_kappa_score\n",
        "\n",
        "iris = load_iris()\n",
        "X = iris.data\n",
        "y = iris.target\n",
        "\n",
        "binary_filter = y != 2\n",
        "X_binary = X[binary_filter]\n",
        "y_binary = y[binary_filter]\n",
        "\n",
        "X_train, X_test, y_train, y_test = train_test_split(X_binary, y_binary, test_size=0.2, random_state=42)\n",
        "\n",
        "model = LogisticRegression(max_iter=200)\n",
        "model.fit(X_train, y_train)\n",
        "\n",
        "y_pred = model.predict(X_test)\n",
        "kappa_score = cohen_kappa_score(y_test, y_pred)\n",
        "\n",
        "\n",
        "print(f\"Cohen's Kappa Score: {kappa_score:.2f}\")\n"
      ],
      "metadata": {
        "colab": {
          "base_uri": "https://localhost:8080/"
        },
        "id": "W1f5KTNcr1kd",
        "outputId": "3346fcce-c1a9-4460-9993-8be86499a3d9"
      },
      "execution_count": 18,
      "outputs": [
        {
          "output_type": "stream",
          "name": "stdout",
          "text": [
            "Cohen's Kappa Score: 1.00\n"
          ]
        }
      ]
    },
    {
      "cell_type": "markdown",
      "source": [
        "Q20. Write a Python program to train Logistic Regression and visualize the Precision-Recall Curve for binary\n",
        "classificatio:\n"
      ],
      "metadata": {
        "id": "GtiemHF_sGj9"
      }
    },
    {
      "cell_type": "code",
      "source": [
        "import numpy as np\n",
        "import matplotlib.pyplot as plt\n",
        "from sklearn.datasets import load_iris\n",
        "from sklearn.linear_model import LogisticRegression\n",
        "from sklearn.model_selection import train_test_split\n",
        "from sklearn.metrics import precision_recall_curve, auc\n",
        "\n",
        "iris = load_iris()\n",
        "X = iris.data\n",
        "y = iris.target\n",
        "binary_filter = y != 2\n",
        "X_binary = X[binary_filter]\n",
        "y_binary = y[binary_filter]\n",
        "\n",
        "X_train, X_test, y_train, y_test = train_test_split(X_binary, y_binary, test_size=0.2, random_state=42)\n",
        "\n",
        "model = LogisticRegression(max_iter=200)\n",
        "model.fit(X_train, y_train)\n",
        "\n",
        "y_prob = model.predict_proba(X_test)[:, 1]\n",
        "\n",
        "precision, recall, _ = precision_recall_curve(y_test, y_prob)\n",
        "\n",
        "pr_auc = auc(recall, precision)\n",
        "\n",
        "plt.figure(figsize=(8, 6))\n",
        "plt.plot(recall, precision, color='b', label=f'Precision-Recall curve (AUC = {pr_auc:.2f})')\n",
        "plt.xlabel('Recall')\n",
        "plt.ylabel('Precision')\n",
        "plt.title('Precision-Recall Curve')\n",
        "plt.legend(loc='best')\n",
        "plt.grid(True)\n",
        "plt.show()\n"
      ],
      "metadata": {
        "colab": {
          "base_uri": "https://localhost:8080/",
          "height": 564
        },
        "id": "GpxJqexBsNod",
        "outputId": "4e310f01-e464-40a9-acfd-a01d75b3486e"
      },
      "execution_count": 19,
      "outputs": [
        {
          "output_type": "display_data",
          "data": {
            "text/plain": [
              "<Figure size 800x600 with 1 Axes>"
            ],
            "image/png": "[encoded data removed]"
          },
          "metadata": {}
        }
      ]
    },
    {
      "cell_type": "markdown",
      "source": [
        "Q21.Write a Python program to train Logistic Regression with different solvers (liblinear, saga, lbfgs) and compare\n",
        "their accuracy"
      ],
      "metadata": {
        "id": "4-wTxxoJshN7"
      }
    },
    {
      "cell_type": "code",
      "source": [
        "from sklearn.datasets import load_iris\n",
        "from sklearn.linear_model import LogisticRegression\n",
        "from sklearn.model_selection import train_test_split\n",
        "from sklearn.metrics import accuracy_score\n",
        "\n",
        "iris = load_iris()\n",
        "X = iris.data\n",
        "y = iris.target\n",
        "\n",
        "binary_filter = y != 2\n",
        "X_binary = X[binary_filter]\n",
        "y_binary = y[binary_filter]\n",
        "\n",
        "X_train, X_test, y_train, y_test = train_test_split(X_binary, y_binary, test_size=0.2, random_state=42)\n",
        "\n",
        "solvers = ['liblinear', 'saga', 'lbfgs']\n",
        "\n",
        "accuracy_dict = {}\n",
        "for solver in solvers:\n",
        "    model = LogisticRegression(solver=solver, max_iter=200)\n",
        "    model.fit(X_train, y_train)\n",
        "\n",
        "    y_pred = model.predict(X_test)\n",
        "\n",
        "\n",
        "    accuracy = accuracy_score(y_test, y_pred)\n",
        "\n",
        "    accuracy_dict[solver] = accuracy\n",
        "\n",
        "for solver, accuracy in accuracy_dict.items():\n",
        "    print(f\"Accuracy with solver '{solver}': {accuracy:.2f}\")\n"
      ],
      "metadata": {
        "colab": {
          "base_uri": "https://localhost:8080/"
        },
        "id": "AGyW_oI4soqu",
        "outputId": "8259b1c9-b30c-4116-9cfd-af498c4ce535"
      },
      "execution_count": 20,
      "outputs": [
        {
          "output_type": "stream",
          "name": "stdout",
          "text": [
            "Accuracy with solver 'liblinear': 1.00\n",
            "Accuracy with solver 'saga': 1.00\n",
            "Accuracy with solver 'lbfgs': 1.00\n"
          ]
        },
        {
          "output_type": "stream",
          "name": "stderr",
          "text": [
            "/usr/local/lib/python3.11/dist-packages/sklearn/linear_model/_sag.py:348: ConvergenceWarning: The max_iter was reached which means the coef_ did not converge\n",
            "  warnings.warn(\n"
          ]
        }
      ]
    },
    {
      "cell_type": "markdown",
      "source": [
        "Q23.Write a Python program to train Logistic Regression on both raw and standardized data. Compare their\n",
        "accuracy to see the impact of feature scaling."
      ],
      "metadata": {
        "id": "LaQ8E7_Ws9Wz"
      }
    },
    {
      "cell_type": "code",
      "source": [
        "from sklearn.datasets import load_iris\n",
        "from sklearn.linear_model import LogisticRegression\n",
        "from sklearn.model_selection import train_test_split\n",
        "from sklearn.preprocessing import StandardScaler\n",
        "from sklearn.metrics import accuracy_score\n",
        "\n",
        "iris = load_iris()\n",
        "X = iris.data\n",
        "y = iris.target\n",
        "binary_filter = y != 2\n",
        "X_binary = X[binary_filter]\n",
        "y_binary = y[binary_filter]\n",
        "X_train, X_test, y_train, y_test = train_test_split(X_binary, y_binary, test_size=0.2, random_state=42)\n",
        "\n",
        "model = LogisticRegression(max_iter=200)\n",
        "\n",
        "\n",
        "model.fit(X_train, y_train)\n",
        "y_pred_raw = model.predict(X_test)\n",
        "accuracy_raw = accuracy_score(y_test, y_pred_raw)\n",
        "\n",
        "scaler = StandardScaler()\n",
        "X_train_scaled = scaler.fit_transform(X_train)\n",
        "X_test_scaled = scaler.transform(X_test)\n",
        "\n",
        "model.fit(X_train_scaled, y_train)\n",
        "y_pred_scaled = model.predict(X_test_scaled)\n",
        "accuracy_scaled = accuracy_score(y_test, y_pred_scaled)\n",
        "\n",
        "print(f\"Accuracy with raw data: {accuracy_raw:.2f}\")\n",
        "print(f\"Accuracy with standardized data: {accuracy_scaled:.2f}\")\n"
      ],
      "metadata": {
        "colab": {
          "base_uri": "https://localhost:8080/"
        },
        "id": "avoQzEvOtEc1",
        "outputId": "bb3086a7-0dd3-4b19-90fd-bda92d5d5e79"
      },
      "execution_count": 21,
      "outputs": [
        {
          "output_type": "stream",
          "name": "stdout",
          "text": [
            "Accuracy with raw data: 1.00\n",
            "Accuracy with standardized data: 1.00\n"
          ]
        }
      ]
    },
    {
      "cell_type": "markdown",
      "source": [
        "Q24.Write a Python program to train Logistic Regression and find the optimal C (regularization strength) using\n",
        "cross-validation."
      ],
      "metadata": {
        "id": "dLHTd2mCtYXm"
      }
    },
    {
      "cell_type": "code",
      "source": [
        "import numpy as np\n",
        "from sklearn.datasets import load_iris\n",
        "from sklearn.linear_model import LogisticRegression\n",
        "from sklearn.model_selection import train_test_split, GridSearchCV\n",
        "from sklearn.metrics import accuracy_score\n",
        "\n",
        "iris = load_iris()\n",
        "X = iris.data\n",
        "y = iris.target\n",
        "binary_filter = y != 2\n",
        "X_binary = X[binary_filter]\n",
        "y_binary = y[binary_filter]\n",
        "\n",
        "X_train, X_test, y_train, y_test = train_test_split(X_binary, y_binary, test_size=0.2, random_state=42)\n",
        "\n",
        "model = LogisticRegression(max_iter=200)\n",
        "\n",
        "param_grid = {'C': np.logspace(-4, 4, 20)}\n",
        "\n",
        "grid_search = GridSearchCV(estimator=model, param_grid=param_grid, cv=5, scoring='accuracy')\n",
        "grid_search.fit(X_train, y_train)\n",
        "\n",
        "best_C = grid_search.best_params_['C']\n",
        "best_score = grid_search.best_score_\n",
        "\n",
        "model = LogisticRegression(C=best_C, max_iter=200)\n",
        "model.fit(X_train, y_train)\n",
        "\n",
        "y_pred = model.predict(X_test)\n",
        "accuracy = accuracy_score(y_test, y_pred)\n",
        "\n",
        "print(f\"Optimal C: {best_C}\")\n",
        "print(f\"Best cross-validation accuracy: {best_score:.2f}\")\n",
        "print(f\"Test set accuracy: {accuracy:.2f}\")\n"
      ],
      "metadata": {
        "colab": {
          "base_uri": "https://localhost:8080/"
        },
        "id": "Woc_cGnBtexT",
        "outputId": "ccc7d429-0333-470f-c40e-bf853501e5b4"
      },
      "execution_count": 22,
      "outputs": [
        {
          "output_type": "stream",
          "name": "stdout",
          "text": [
            "Optimal C: 0.004832930238571752\n",
            "Best cross-validation accuracy: 1.00\n",
            "Test set accuracy: 1.00\n"
          ]
        }
      ]
    },
    {
      "cell_type": "markdown",
      "source": [
        "Q25. Write a Python program to train Logistic Regression, save the trained model using joblib, and load it again to\n",
        "make predictions."
      ],
      "metadata": {
        "id": "shF0PasZt9rj"
      }
    },
    {
      "cell_type": "code",
      "source": [
        "import joblib\n",
        "from sklearn.datasets import load_iris\n",
        "from sklearn.linear_model import LogisticRegression\n",
        "from sklearn.model_selection import train_test_split\n",
        "from sklearn.metrics import accuracy_score\n",
        "\n",
        "iris = load_iris()\n",
        "X = iris.data\n",
        "y = iris.target\n",
        "\n",
        "binary_filter = y != 2\n",
        "X_binary = X[binary_filter]\n",
        "y_binary = y[binary_filter]\n",
        "\n",
        "X_train, X_test, y_train, y_test = train_test_split(X_binary, y_binary, test_size=0.2, random_state=42)\n",
        "\n",
        "model = LogisticRegression(max_iter=200)\n",
        "model.fit(X_train, y_train)\n",
        "\n",
        "joblib.dump(model, 'logistic_regression_model.pkl')\n",
        "\n",
        "loaded_model = joblib.load('logistic_regression_model.pkl')\n",
        "\n",
        "y_pred = loaded_model.predict(X_test)\n",
        "\n",
        "accuracy = accuracy_score(y_test, y_pred)\n",
        "\n",
        "\n",
        "print(f\"Accuracy of the loaded model: {accuracy:.2f}\")\n"
      ],
      "metadata": {
        "colab": {
          "base_uri": "https://localhost:8080/"
        },
        "id": "uGEfg_youEMe",
        "outputId": "07a1e24e-a2d0-4ff5-e67f-99e81ff0ca40"
      },
      "execution_count": 23,
      "outputs": [
        {
          "output_type": "stream",
          "name": "stdout",
          "text": [
            "Accuracy of the loaded model: 1.00\n"
          ]
        }
      ]
    }
  ]
}